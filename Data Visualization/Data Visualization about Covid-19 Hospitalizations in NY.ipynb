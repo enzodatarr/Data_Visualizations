{
 "cells": [
  {
   "cell_type": "markdown",
   "id": "61fc777d",
   "metadata": {},
   "source": [
    "# Performing Data Visualizations on Covid-19 Data "
   ]
  },
  {
   "cell_type": "markdown",
   "id": "2377e1c1",
   "metadata": {},
   "source": [
    "* The Data was collected from\n",
    "*https://health.data.ny.gov/Health/New-York-Forward-COVID-19-Daily-Hospitalization-Su/qutr-irdf"
   ]
  },
  {
   "cell_type": "markdown",
   "id": "9b2dd20c",
   "metadata": {},
   "source": [
    "## Importing the data using pandas"
   ]
  },
  {
   "cell_type": "code",
   "execution_count": 2,
   "id": "677ff99f",
   "metadata": {},
   "outputs": [
    {
     "data": {
      "text/html": [
       "<div>\n",
       "<style scoped>\n",
       "    .dataframe tbody tr th:only-of-type {\n",
       "        vertical-align: middle;\n",
       "    }\n",
       "\n",
       "    .dataframe tbody tr th {\n",
       "        vertical-align: top;\n",
       "    }\n",
       "\n",
       "    .dataframe thead th {\n",
       "        text-align: right;\n",
       "    }\n",
       "</style>\n",
       "<table border=\"1\" class=\"dataframe\">\n",
       "  <thead>\n",
       "    <tr style=\"text-align: right;\">\n",
       "      <th></th>\n",
       "      <th>As of Date</th>\n",
       "      <th>Region</th>\n",
       "      <th>Total Patients Hospitalized</th>\n",
       "      <th>Total Patients in ICU</th>\n",
       "    </tr>\n",
       "  </thead>\n",
       "  <tbody>\n",
       "    <tr>\n",
       "      <th>0</th>\n",
       "      <td>03/26/2020</td>\n",
       "      <td>CAPITAL REGION</td>\n",
       "      <td>40</td>\n",
       "      <td>13</td>\n",
       "    </tr>\n",
       "    <tr>\n",
       "      <th>1</th>\n",
       "      <td>03/26/2020</td>\n",
       "      <td>CENTRAL NEW YORK</td>\n",
       "      <td>20</td>\n",
       "      <td>4</td>\n",
       "    </tr>\n",
       "    <tr>\n",
       "      <th>2</th>\n",
       "      <td>03/26/2020</td>\n",
       "      <td>FINGER LAKES</td>\n",
       "      <td>39</td>\n",
       "      <td>23</td>\n",
       "    </tr>\n",
       "    <tr>\n",
       "      <th>3</th>\n",
       "      <td>03/26/2020</td>\n",
       "      <td>LONG ISLAND</td>\n",
       "      <td>1082</td>\n",
       "      <td>303</td>\n",
       "    </tr>\n",
       "    <tr>\n",
       "      <th>4</th>\n",
       "      <td>03/26/2020</td>\n",
       "      <td>MID-HUDSON</td>\n",
       "      <td>493</td>\n",
       "      <td>126</td>\n",
       "    </tr>\n",
       "    <tr>\n",
       "      <th>5</th>\n",
       "      <td>03/26/2020</td>\n",
       "      <td>MOHAWK VALLEY</td>\n",
       "      <td>12</td>\n",
       "      <td>7</td>\n",
       "    </tr>\n",
       "    <tr>\n",
       "      <th>6</th>\n",
       "      <td>03/26/2020</td>\n",
       "      <td>NEW YORK CITY</td>\n",
       "      <td>4733</td>\n",
       "      <td>1084</td>\n",
       "    </tr>\n",
       "    <tr>\n",
       "      <th>7</th>\n",
       "      <td>03/26/2020</td>\n",
       "      <td>NORTH COUNTRY</td>\n",
       "      <td>4</td>\n",
       "      <td>1</td>\n",
       "    </tr>\n",
       "    <tr>\n",
       "      <th>8</th>\n",
       "      <td>03/26/2020</td>\n",
       "      <td>SOUTHERN TIER</td>\n",
       "      <td>9</td>\n",
       "      <td>3</td>\n",
       "    </tr>\n",
       "    <tr>\n",
       "      <th>9</th>\n",
       "      <td>03/26/2020</td>\n",
       "      <td>WESTERN NEW YORK</td>\n",
       "      <td>49</td>\n",
       "      <td>19</td>\n",
       "    </tr>\n",
       "  </tbody>\n",
       "</table>\n",
       "</div>"
      ],
      "text/plain": [
       "   As of Date            Region  Total Patients Hospitalized  \\\n",
       "0  03/26/2020    CAPITAL REGION                           40   \n",
       "1  03/26/2020  CENTRAL NEW YORK                           20   \n",
       "2  03/26/2020      FINGER LAKES                           39   \n",
       "3  03/26/2020       LONG ISLAND                         1082   \n",
       "4  03/26/2020        MID-HUDSON                          493   \n",
       "5  03/26/2020     MOHAWK VALLEY                           12   \n",
       "6  03/26/2020     NEW YORK CITY                         4733   \n",
       "7  03/26/2020     NORTH COUNTRY                            4   \n",
       "8  03/26/2020     SOUTHERN TIER                            9   \n",
       "9  03/26/2020  WESTERN NEW YORK                           49   \n",
       "\n",
       "   Total Patients in ICU  \n",
       "0                     13  \n",
       "1                      4  \n",
       "2                     23  \n",
       "3                    303  \n",
       "4                    126  \n",
       "5                      7  \n",
       "6                   1084  \n",
       "7                      1  \n",
       "8                      3  \n",
       "9                     19  "
      ]
     },
     "execution_count": 2,
     "metadata": {},
     "output_type": "execute_result"
    }
   ],
   "source": [
    "import pandas as pd\n",
    "df = pd.read_csv('New_York_Forward_COVID-19_Daily_Hospitalization_Summary_by_Region.csv')\n",
    "df.head(10) #View first 10 data rows"
   ]
  },
  {
   "cell_type": "code",
   "execution_count": 3,
   "id": "804bb2c7",
   "metadata": {},
   "outputs": [
    {
     "data": {
      "text/html": [
       "<div>\n",
       "<style scoped>\n",
       "    .dataframe tbody tr th:only-of-type {\n",
       "        vertical-align: middle;\n",
       "    }\n",
       "\n",
       "    .dataframe tbody tr th {\n",
       "        vertical-align: top;\n",
       "    }\n",
       "\n",
       "    .dataframe thead th {\n",
       "        text-align: right;\n",
       "    }\n",
       "</style>\n",
       "<table border=\"1\" class=\"dataframe\">\n",
       "  <thead>\n",
       "    <tr style=\"text-align: right;\">\n",
       "      <th></th>\n",
       "      <th>Total Patients Hospitalized</th>\n",
       "      <th>Total Patients in ICU</th>\n",
       "    </tr>\n",
       "  </thead>\n",
       "  <tbody>\n",
       "    <tr>\n",
       "      <th>count</th>\n",
       "      <td>6120.000000</td>\n",
       "      <td>6120.000000</td>\n",
       "    </tr>\n",
       "    <tr>\n",
       "      <th>mean</th>\n",
       "      <td>351.688399</td>\n",
       "      <td>82.368464</td>\n",
       "    </tr>\n",
       "    <tr>\n",
       "      <th>std</th>\n",
       "      <td>940.491810</td>\n",
       "      <td>249.875889</td>\n",
       "    </tr>\n",
       "    <tr>\n",
       "      <th>min</th>\n",
       "      <td>0.000000</td>\n",
       "      <td>0.000000</td>\n",
       "    </tr>\n",
       "    <tr>\n",
       "      <th>25%</th>\n",
       "      <td>36.000000</td>\n",
       "      <td>8.000000</td>\n",
       "    </tr>\n",
       "    <tr>\n",
       "      <th>50%</th>\n",
       "      <td>105.000000</td>\n",
       "      <td>23.000000</td>\n",
       "    </tr>\n",
       "    <tr>\n",
       "      <th>75%</th>\n",
       "      <td>254.250000</td>\n",
       "      <td>60.000000</td>\n",
       "    </tr>\n",
       "    <tr>\n",
       "      <th>max</th>\n",
       "      <td>12184.000000</td>\n",
       "      <td>3141.000000</td>\n",
       "    </tr>\n",
       "  </tbody>\n",
       "</table>\n",
       "</div>"
      ],
      "text/plain": [
       "       Total Patients Hospitalized  Total Patients in ICU\n",
       "count                  6120.000000            6120.000000\n",
       "mean                    351.688399              82.368464\n",
       "std                     940.491810             249.875889\n",
       "min                       0.000000               0.000000\n",
       "25%                      36.000000               8.000000\n",
       "50%                     105.000000              23.000000\n",
       "75%                     254.250000              60.000000\n",
       "max                   12184.000000            3141.000000"
      ]
     },
     "execution_count": 3,
     "metadata": {},
     "output_type": "execute_result"
    }
   ],
   "source": [
    "df.describe()"
   ]
  },
  {
   "cell_type": "code",
   "execution_count": 4,
   "id": "1269c080",
   "metadata": {},
   "outputs": [
    {
     "name": "stdout",
     "output_type": "stream",
     "text": [
      "<class 'pandas.core.frame.DataFrame'>\n",
      "RangeIndex: 6120 entries, 0 to 6119\n",
      "Data columns (total 4 columns):\n",
      " #   Column                       Non-Null Count  Dtype \n",
      "---  ------                       --------------  ----- \n",
      " 0   As of Date                   6120 non-null   object\n",
      " 1   Region                       6120 non-null   object\n",
      " 2   Total Patients Hospitalized  6120 non-null   int64 \n",
      " 3   Total Patients in ICU        6120 non-null   int64 \n",
      "dtypes: int64(2), object(2)\n",
      "memory usage: 191.4+ KB\n"
     ]
    }
   ],
   "source": [
    "df.info()"
   ]
  },
  {
   "cell_type": "markdown",
   "id": "6412ab71",
   "metadata": {},
   "source": [
    "## Highlighting maximum and minimum values with colours."
   ]
  },
  {
   "cell_type": "code",
   "execution_count": 5,
   "id": "178830bb",
   "metadata": {},
   "outputs": [
    {
     "data": {
      "text/html": [
       "<style type=\"text/css\">\n",
       "#T_c5a5e_row0_col0, #T_c5a5e_row1_col0, #T_c5a5e_row2_col0, #T_c5a5e_row3_col0, #T_c5a5e_row4_col0 {\n",
       "  background-color: darkgreen;\n",
       "  background-color: #ff0000;\n",
       "}\n",
       "#T_c5a5e_row0_col1, #T_c5a5e_row1_col2, #T_c5a5e_row1_col3 {\n",
       "  background-color: #ff0000;\n",
       "}\n",
       "#T_c5a5e_row3_col2, #T_c5a5e_row3_col3, #T_c5a5e_row4_col1 {\n",
       "  background-color: darkgreen;\n",
       "}\n",
       "</style>\n",
       "<table id=\"T_c5a5e_\">\n",
       "  <thead>\n",
       "    <tr>\n",
       "      <th class=\"blank level0\" >&nbsp;</th>\n",
       "      <th class=\"col_heading level0 col0\" >As of Date</th>\n",
       "      <th class=\"col_heading level0 col1\" >Region</th>\n",
       "      <th class=\"col_heading level0 col2\" >Total Patients Hospitalized</th>\n",
       "      <th class=\"col_heading level0 col3\" >Total Patients in ICU</th>\n",
       "    </tr>\n",
       "  </thead>\n",
       "  <tbody>\n",
       "    <tr>\n",
       "      <th id=\"T_c5a5e_level0_row0\" class=\"row_heading level0 row0\" >0</th>\n",
       "      <td id=\"T_c5a5e_row0_col0\" class=\"data row0 col0\" >03/26/2020</td>\n",
       "      <td id=\"T_c5a5e_row0_col1\" class=\"data row0 col1\" >CAPITAL REGION</td>\n",
       "      <td id=\"T_c5a5e_row0_col2\" class=\"data row0 col2\" >40</td>\n",
       "      <td id=\"T_c5a5e_row0_col3\" class=\"data row0 col3\" >13</td>\n",
       "    </tr>\n",
       "    <tr>\n",
       "      <th id=\"T_c5a5e_level0_row1\" class=\"row_heading level0 row1\" >1</th>\n",
       "      <td id=\"T_c5a5e_row1_col0\" class=\"data row1 col0\" >03/26/2020</td>\n",
       "      <td id=\"T_c5a5e_row1_col1\" class=\"data row1 col1\" >CENTRAL NEW YORK</td>\n",
       "      <td id=\"T_c5a5e_row1_col2\" class=\"data row1 col2\" >20</td>\n",
       "      <td id=\"T_c5a5e_row1_col3\" class=\"data row1 col3\" >4</td>\n",
       "    </tr>\n",
       "    <tr>\n",
       "      <th id=\"T_c5a5e_level0_row2\" class=\"row_heading level0 row2\" >2</th>\n",
       "      <td id=\"T_c5a5e_row2_col0\" class=\"data row2 col0\" >03/26/2020</td>\n",
       "      <td id=\"T_c5a5e_row2_col1\" class=\"data row2 col1\" >FINGER LAKES</td>\n",
       "      <td id=\"T_c5a5e_row2_col2\" class=\"data row2 col2\" >39</td>\n",
       "      <td id=\"T_c5a5e_row2_col3\" class=\"data row2 col3\" >23</td>\n",
       "    </tr>\n",
       "    <tr>\n",
       "      <th id=\"T_c5a5e_level0_row3\" class=\"row_heading level0 row3\" >3</th>\n",
       "      <td id=\"T_c5a5e_row3_col0\" class=\"data row3 col0\" >03/26/2020</td>\n",
       "      <td id=\"T_c5a5e_row3_col1\" class=\"data row3 col1\" >LONG ISLAND</td>\n",
       "      <td id=\"T_c5a5e_row3_col2\" class=\"data row3 col2\" >1082</td>\n",
       "      <td id=\"T_c5a5e_row3_col3\" class=\"data row3 col3\" >303</td>\n",
       "    </tr>\n",
       "    <tr>\n",
       "      <th id=\"T_c5a5e_level0_row4\" class=\"row_heading level0 row4\" >4</th>\n",
       "      <td id=\"T_c5a5e_row4_col0\" class=\"data row4 col0\" >03/26/2020</td>\n",
       "      <td id=\"T_c5a5e_row4_col1\" class=\"data row4 col1\" >MID-HUDSON</td>\n",
       "      <td id=\"T_c5a5e_row4_col2\" class=\"data row4 col2\" >493</td>\n",
       "      <td id=\"T_c5a5e_row4_col3\" class=\"data row4 col3\" >126</td>\n",
       "    </tr>\n",
       "  </tbody>\n",
       "</table>\n"
      ],
      "text/plain": [
       "<pandas.io.formats.style.Styler at 0x7fbfc170b430>"
      ]
     },
     "execution_count": 5,
     "metadata": {},
     "output_type": "execute_result"
    }
   ],
   "source": [
    "format_dict = {'Mes':'{:%m-%Y}'} #Simplified format dictionary with values that do make sense for our data\n",
    "df.head().style.format(format_dict).highlight_max(color='darkgreen').highlight_min(color='#ff0000')"
   ]
  },
  {
   "cell_type": "code",
   "execution_count": 13,
   "id": "be5ae69e",
   "metadata": {},
   "outputs": [
    {
     "data": {
      "text/plain": [
       "<AxesSubplot:xlabel='Region'>"
      ]
     },
     "execution_count": 13,
     "metadata": {},
     "output_type": "execute_result"
    },
    {
     "data": {
      "image/png": "[encoded data removed]",
      "text/plain": [
       "<Figure size 432x288 with 1 Axes>"
      ]
     },
     "metadata": {
      "needs_background": "light"
     },
     "output_type": "display_data"
    }
   ],
   "source": [
    "import matplotlib.pyplot as plt\n",
    "\n",
    "df = pd.DataFrame({\"Region\": [], \"As of date\" : []})\n",
    "\n",
    "df['As of date'] = pd.to_datetime(df['As of date'])\n",
    "df.plot(kind='line', x='Region', y='As of date')"
   ]
  },
  {
   "cell_type": "code",
   "execution_count": null,
   "id": "495e1dc2",
   "metadata": {},
   "outputs": [],
   "source": []
  }
 ],
 "metadata": {
  "kernelspec": {
   "display_name": "Python 3 (ipykernel)",
   "language": "python",
   "name": "python3"
  },
  "language_info": {
   "codemirror_mode": {
    "name": "ipython",
    "version": 3
   },
   "file_extension": ".py",
   "mimetype": "text/x-python",
   "name": "python",
   "nbconvert_exporter": "python",
   "pygments_lexer": "ipython3",
   "version": "3.8.12"
  }
 },
 "nbformat": 4,
 "nbformat_minor": 5
}
