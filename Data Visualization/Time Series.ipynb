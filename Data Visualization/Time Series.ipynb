{
 "cells": [
  {
   "cell_type": "markdown",
   "id": "65aac75c",
   "metadata": {},
   "source": [
    "# Performing Data Visualizations on Covid-19 Data \n",
    "* The Data was collected from\n",
    "*https://health.data.ny.gov/Health/New-York-Forward-COVID-19-Daily-Hospitalization-Su/qutr-irdf"
   ]
  },
  {
   "cell_type": "markdown",
   "id": "580a1ff0",
   "metadata": {},
   "source": [
    "# Time Series :-)"
   ]
  },
  {
   "cell_type": "code",
   "execution_count": 2,
   "id": "df30e262",
   "metadata": {},
   "outputs": [
    {
     "name": "stdout",
     "output_type": "stream",
     "text": [
      "Collecting seaborn\n",
      "  Downloading seaborn-0.11.2-py3-none-any.whl (292 kB)\n",
      "     |████████████████████████████████| 292 kB 626 kB/s            \n",
      "\u001b[?25hRequirement already satisfied: scipy>=1.0 in /Users/enzorodriguez/opt/anaconda3/envs/tf2/lib/python3.8/site-packages (from seaborn) (1.7.3)\n",
      "Requirement already satisfied: pandas>=0.23 in /Users/enzorodriguez/opt/anaconda3/envs/tf2/lib/python3.8/site-packages (from seaborn) (1.3.4)\n",
      "Requirement already satisfied: numpy>=1.15 in /Users/enzorodriguez/opt/anaconda3/envs/tf2/lib/python3.8/site-packages (from seaborn) (1.19.5)\n",
      "Requirement already satisfied: matplotlib>=2.2 in /Users/enzorodriguez/opt/anaconda3/envs/tf2/lib/python3.8/site-packages (from seaborn) (3.4.3)\n",
      "Requirement already satisfied: pillow>=6.2.0 in /Users/enzorodriguez/opt/anaconda3/envs/tf2/lib/python3.8/site-packages (from matplotlib>=2.2->seaborn) (8.3.2)\n",
      "Requirement already satisfied: kiwisolver>=1.0.1 in /Users/enzorodriguez/opt/anaconda3/envs/tf2/lib/python3.8/site-packages (from matplotlib>=2.2->seaborn) (1.3.2)\n",
      "Requirement already satisfied: cycler>=0.10 in /Users/enzorodriguez/opt/anaconda3/envs/tf2/lib/python3.8/site-packages (from matplotlib>=2.2->seaborn) (0.11.0)\n",
      "Requirement already satisfied: python-dateutil>=2.7 in /Users/enzorodriguez/opt/anaconda3/envs/tf2/lib/python3.8/site-packages (from matplotlib>=2.2->seaborn) (2.8.2)\n",
      "Requirement already satisfied: pyparsing>=2.2.1 in /Users/enzorodriguez/opt/anaconda3/envs/tf2/lib/python3.8/site-packages (from matplotlib>=2.2->seaborn) (2.4.7)\n",
      "Requirement already satisfied: pytz>=2017.3 in /Users/enzorodriguez/opt/anaconda3/envs/tf2/lib/python3.8/site-packages (from pandas>=0.23->seaborn) (2021.3)\n",
      "Requirement already satisfied: six>=1.5 in /Users/enzorodriguez/opt/anaconda3/envs/tf2/lib/python3.8/site-packages (from python-dateutil>=2.7->matplotlib>=2.2->seaborn) (1.15.0)\n",
      "Installing collected packages: seaborn\n",
      "Successfully installed seaborn-0.11.2\n",
      "Note: you may need to restart the kernel to use updated packages.\n"
     ]
    }
   ],
   "source": [
    "pip install seaborn"
   ]
  },
  {
   "cell_type": "code",
   "execution_count": 5,
   "id": "1a6340ec",
   "metadata": {},
   "outputs": [
    {
     "data": {
      "text/html": [
       "<div>\n",
       "<style scoped>\n",
       "    .dataframe tbody tr th:only-of-type {\n",
       "        vertical-align: middle;\n",
       "    }\n",
       "\n",
       "    .dataframe tbody tr th {\n",
       "        vertical-align: top;\n",
       "    }\n",
       "\n",
       "    .dataframe thead th {\n",
       "        text-align: right;\n",
       "    }\n",
       "</style>\n",
       "<table border=\"1\" class=\"dataframe\">\n",
       "  <thead>\n",
       "    <tr style=\"text-align: right;\">\n",
       "      <th></th>\n",
       "      <th>As of Date</th>\n",
       "      <th>Region</th>\n",
       "      <th>Total Patients Hospitalized</th>\n",
       "      <th>Total Patients in ICU</th>\n",
       "    </tr>\n",
       "  </thead>\n",
       "  <tbody>\n",
       "    <tr>\n",
       "      <th>0</th>\n",
       "      <td>2020-03-26</td>\n",
       "      <td>CAPITAL REGION</td>\n",
       "      <td>40</td>\n",
       "      <td>13</td>\n",
       "    </tr>\n",
       "    <tr>\n",
       "      <th>1</th>\n",
       "      <td>2020-03-26</td>\n",
       "      <td>CENTRAL NEW YORK</td>\n",
       "      <td>20</td>\n",
       "      <td>4</td>\n",
       "    </tr>\n",
       "    <tr>\n",
       "      <th>2</th>\n",
       "      <td>2020-03-26</td>\n",
       "      <td>FINGER LAKES</td>\n",
       "      <td>39</td>\n",
       "      <td>23</td>\n",
       "    </tr>\n",
       "    <tr>\n",
       "      <th>3</th>\n",
       "      <td>2020-03-26</td>\n",
       "      <td>LONG ISLAND</td>\n",
       "      <td>1082</td>\n",
       "      <td>303</td>\n",
       "    </tr>\n",
       "    <tr>\n",
       "      <th>4</th>\n",
       "      <td>2020-03-26</td>\n",
       "      <td>MID-HUDSON</td>\n",
       "      <td>493</td>\n",
       "      <td>126</td>\n",
       "    </tr>\n",
       "  </tbody>\n",
       "</table>\n",
       "</div>"
      ],
      "text/plain": [
       "  As of Date            Region  Total Patients Hospitalized  \\\n",
       "0 2020-03-26    CAPITAL REGION                           40   \n",
       "1 2020-03-26  CENTRAL NEW YORK                           20   \n",
       "2 2020-03-26      FINGER LAKES                           39   \n",
       "3 2020-03-26       LONG ISLAND                         1082   \n",
       "4 2020-03-26        MID-HUDSON                          493   \n",
       "\n",
       "   Total Patients in ICU  \n",
       "0                     13  \n",
       "1                      4  \n",
       "2                     23  \n",
       "3                    303  \n",
       "4                    126  "
      ]
     },
     "execution_count": 5,
     "metadata": {},
     "output_type": "execute_result"
    }
   ],
   "source": [
    "from dateutil.parser import parse \n",
    "import matplotlib as mpl\n",
    "import matplotlib.pyplot as plt\n",
    "import seaborn as sns\n",
    "import numpy as np\n",
    "import pandas as pd\n",
    "plt.rcParams.update({'figure.figsize': (10, 7), 'figure.dpi': 120})\n",
    "\n",
    "# Import as Dataframe\n",
    "df = pd.read_csv('New_York_Forward_COVID-19_Daily_Hospitalization_Summary_by_Region.csv', parse_dates=['As of Date'])\n",
    "df.head()"
   ]
  },
  {
   "cell_type": "code",
   "execution_count": 18,
   "id": "c84e5edd",
   "metadata": {},
   "outputs": [
    {
     "data": {
      "text/plain": [
       "<bound method DataFrame.info of       As_of_Date          Region  Total_Patients_Hospitalized  \\\n",
       "0     03/26/2020  CAPITAL REGION                           40   \n",
       "10    03/27/2020  CAPITAL REGION                           40   \n",
       "20    03/28/2020  CAPITAL REGION                           59   \n",
       "30    03/29/2020  CAPITAL REGION                           67   \n",
       "40    03/30/2020  CAPITAL REGION                           80   \n",
       "...          ...             ...                          ...   \n",
       "6070  11/23/2021  CAPITAL REGION                          261   \n",
       "6080  11/24/2021  CAPITAL REGION                          261   \n",
       "6090  11/26/2021  CAPITAL REGION                          271   \n",
       "6100  11/27/2021  CAPITAL REGION                          277   \n",
       "6110  11/28/2021  CAPITAL REGION                          287   \n",
       "\n",
       "      Total_Patients_in_ICU  \n",
       "0                        13  \n",
       "10                       12  \n",
       "20                       22  \n",
       "30                       35  \n",
       "40                       38  \n",
       "...                     ...  \n",
       "6070                     55  \n",
       "6080                     52  \n",
       "6090                     56  \n",
       "6100                     59  \n",
       "6110                     63  \n",
       "\n",
       "[612 rows x 4 columns]>"
      ]
     },
     "execution_count": 18,
     "metadata": {},
     "output_type": "execute_result"
    }
   ],
   "source": [
    "df.info"
   ]
  },
  {
   "cell_type": "markdown",
   "id": "6eeeaea5",
   "metadata": {},
   "source": [
    "## Lets explore the Capital Region"
   ]
  },
  {
   "cell_type": "code",
   "execution_count": 11,
   "id": "6fa188ce",
   "metadata": {},
   "outputs": [
    {
     "data": {
      "text/html": [
       "<div>\n",
       "<style scoped>\n",
       "    .dataframe tbody tr th:only-of-type {\n",
       "        vertical-align: middle;\n",
       "    }\n",
       "\n",
       "    .dataframe tbody tr th {\n",
       "        vertical-align: top;\n",
       "    }\n",
       "\n",
       "    .dataframe thead th {\n",
       "        text-align: right;\n",
       "    }\n",
       "</style>\n",
       "<table border=\"1\" class=\"dataframe\">\n",
       "  <thead>\n",
       "    <tr style=\"text-align: right;\">\n",
       "      <th></th>\n",
       "      <th>As of Date</th>\n",
       "      <th>Region</th>\n",
       "      <th>Total Patients Hospitalized</th>\n",
       "      <th>Total Patients in ICU</th>\n",
       "    </tr>\n",
       "  </thead>\n",
       "  <tbody>\n",
       "    <tr>\n",
       "      <th>0</th>\n",
       "      <td>03/26/2020</td>\n",
       "      <td>CAPITAL REGION</td>\n",
       "      <td>40</td>\n",
       "      <td>13</td>\n",
       "    </tr>\n",
       "    <tr>\n",
       "      <th>10</th>\n",
       "      <td>03/27/2020</td>\n",
       "      <td>CAPITAL REGION</td>\n",
       "      <td>40</td>\n",
       "      <td>12</td>\n",
       "    </tr>\n",
       "    <tr>\n",
       "      <th>20</th>\n",
       "      <td>03/28/2020</td>\n",
       "      <td>CAPITAL REGION</td>\n",
       "      <td>59</td>\n",
       "      <td>22</td>\n",
       "    </tr>\n",
       "    <tr>\n",
       "      <th>30</th>\n",
       "      <td>03/29/2020</td>\n",
       "      <td>CAPITAL REGION</td>\n",
       "      <td>67</td>\n",
       "      <td>35</td>\n",
       "    </tr>\n",
       "    <tr>\n",
       "      <th>40</th>\n",
       "      <td>03/30/2020</td>\n",
       "      <td>CAPITAL REGION</td>\n",
       "      <td>80</td>\n",
       "      <td>38</td>\n",
       "    </tr>\n",
       "  </tbody>\n",
       "</table>\n",
       "</div>"
      ],
      "text/plain": [
       "    As of Date          Region  Total Patients Hospitalized  \\\n",
       "0   03/26/2020  CAPITAL REGION                           40   \n",
       "10  03/27/2020  CAPITAL REGION                           40   \n",
       "20  03/28/2020  CAPITAL REGION                           59   \n",
       "30  03/29/2020  CAPITAL REGION                           67   \n",
       "40  03/30/2020  CAPITAL REGION                           80   \n",
       "\n",
       "    Total Patients in ICU  \n",
       "0                      13  \n",
       "10                     12  \n",
       "20                     22  \n",
       "30                     35  \n",
       "40                     38  "
      ]
     },
     "execution_count": 11,
     "metadata": {},
     "output_type": "execute_result"
    }
   ],
   "source": [
    "df = pd.read_csv('New_York_Forward_COVID-19_Daily_Hospitalization_Summary_by_Region.csv')\n",
    "df = df.loc[df.Region=='CAPITAL REGION', :]\n",
    "df.head()"
   ]
  },
  {
   "cell_type": "markdown",
   "id": "8e83d162",
   "metadata": {},
   "source": [
    "## Visualizing a time series"
   ]
  },
  {
   "cell_type": "code",
   "execution_count": 21,
   "id": "d6ecf3f3",
   "metadata": {},
   "outputs": [
    {
     "data": {
      "image/png": "[encoded data removed]",
      "text/plain": [
       "<Figure size 1600x500 with 1 Axes>"
      ]
     },
     "metadata": {
      "needs_background": "light"
     },
     "output_type": "display_data"
    }
   ],
   "source": [
    "# Draw Plot\n",
    "def plot_df(df, x, y, title=\"\", xlabel='Region', ylabel='As of Date', dpi=100):\n",
    "    plt.figure(figsize=(16,5), dpi=dpi)\n",
    "    plt.plot(x, y, color='tab:red')\n",
    "    plt.gca().set(title=title, xlabel=xlabel, ylabel=ylabel)\n",
    "    plt.show()\n",
    "\n",
    "plot_df(df, x=df.Region, y=df.As_of_Date, title='Daily Hospitalizations')    "
   ]
  },
  {
   "cell_type": "code",
   "execution_count": null,
   "id": "996d4bc7",
   "metadata": {},
   "outputs": [],
   "source": [
    "R"
   ]
  }
 ],
 "metadata": {
  "kernelspec": {
   "display_name": "Python 3 (ipykernel)",
   "language": "python",
   "name": "python3"
  },
  "language_info": {
   "codemirror_mode": {
    "name": "ipython",
    "version": 3
   },
   "file_extension": ".py",
   "mimetype": "text/x-python",
   "name": "python",
   "nbconvert_exporter": "python",
   "pygments_lexer": "ipython3",
   "version": "3.8.12"
  }
 },
 "nbformat": 4,
 "nbformat_minor": 5
}
